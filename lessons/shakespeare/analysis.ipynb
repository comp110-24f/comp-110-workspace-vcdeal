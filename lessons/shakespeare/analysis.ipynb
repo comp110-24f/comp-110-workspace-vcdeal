{
 "cells": [
  {
   "cell_type": "markdown",
   "metadata": {},
   "source": [
    "# Quantified Shakespeare \n",
    "\n",
    "The purpose of this notebook is to explore character/letter frequency in Shakespeare's works.\n",
    "\n",
    "Steps:\n",
    "\n",
    "1. Read data into list of lines\n",
    "2. Count characters in a dictionary\n",
    "3. Print results"
   ]
  },
  {
   "cell_type": "code",
   "execution_count": 1,
   "metadata": {},
   "outputs": [
    {
     "name": "stdout",
     "output_type": "stream",
     "text": [
      "195958 lines of Shakespear read.\n"
     ]
    },
    {
     "data": {
      "text/plain": [
       "'That thereby beauty’s rose might never die,\\n'"
      ]
     },
     "execution_count": 1,
     "metadata": {},
     "output_type": "execute_result"
    }
   ],
   "source": [
    "lines: list[str] = []\n",
    "\n",
    "file_handle = open(\"shakespeare.txt\", \"r\", encoding=\"utf8\")\n",
    "\n",
    "lines = file_handle.readlines()\n",
    "\n",
    "file_handle.close()\n",
    "\n",
    "print(f\"{len(lines)} lines of Shakespear read.\")\n",
    "lines[5]\n"
   ]
  },
  {
   "cell_type": "markdown",
   "metadata": {},
   "source": [
    "Now that we have all lines of text in a dictionares named `lines`, let's count the characters Shakespeare used!"
   ]
  },
  {
   "cell_type": "code",
   "execution_count": 6,
   "metadata": {},
   "outputs": [
    {
     "data": {
      "text/plain": [
       "{'T': 38084,\n",
       " 'H': 16606,\n",
       " 'E': 33825,\n",
       " ' ': 828939,\n",
       " 'S': 29471,\n",
       " 'O': 25770,\n",
       " 'N': 23398,\n",
       " '\\n': 195957,\n",
       " '1': 251,\n",
       " 'F': 10746,\n",
       " 'r': 230146,\n",
       " 'o': 307066,\n",
       " 'm': 103836,\n",
       " 'f': 75293,\n",
       " 'a': 267711,\n",
       " 'i': 219466,\n",
       " 'e': 451920,\n",
       " 's': 238789,\n",
       " 't': 316602,\n",
       " 'c': 74007,\n",
       " 'u': 125847,\n",
       " 'w': 79507,\n",
       " 'd': 146542,\n",
       " 'n': 237964,\n",
       " ',': 94573,\n",
       " 'h': 239964,\n",
       " 'b': 50935,\n",
       " 'y': 92318,\n",
       " '’': 26332,\n",
       " 'g': 62902,\n",
       " 'v': 37304,\n",
       " 'B': 13149,\n",
       " 'p': 51219,\n",
       " 'l': 160766,\n",
       " ':': 3415,\n",
       " '-': 3895,\n",
       " 'M': 14173,\n",
       " 'k': 32404,\n",
       " 'A': 43404,\n",
       " 'W': 16654,\n",
       " 'P': 10271,\n",
       " '.': 91162,\n",
       " '2': 172,\n",
       " 'z': 1247,\n",
       " ';': 12919,\n",
       " 'I': 51525,\n",
       " '‘': 372,\n",
       " 'x': 5067,\n",
       " '3': 97,\n",
       " 'L': 20388,\n",
       " 'D': 12741,\n",
       " '?': 11396,\n",
       " 'C': 17823,\n",
       " '4': 147,\n",
       " 'U': 11459,\n",
       " 'q': 2810,\n",
       " '5': 89,\n",
       " '6': 140,\n",
       " '7': 77,\n",
       " 'j': 2983,\n",
       " 'R': 22423,\n",
       " 'Y': 7110,\n",
       " '(': 217,\n",
       " ')': 217,\n",
       " '8': 139,\n",
       " '9': 83,\n",
       " '0': 136,\n",
       " 'G': 9833,\n",
       " 'V': 3122,\n",
       " '—': 2503,\n",
       " 'K': 5434,\n",
       " '!': 7805,\n",
       " 'J': 1952,\n",
       " 'æ': 65,\n",
       " '&': 48,\n",
       " '“': 1232,\n",
       " '”': 1059,\n",
       " '[': 4255,\n",
       " '_': 9702,\n",
       " ']': 4253,\n",
       " 'Q': 1190,\n",
       " 'X': 332,\n",
       " 'œ': 17,\n",
       " 'Z': 548,\n",
       " 'Æ': 6,\n",
       " 'à': 14,\n",
       " 'É': 9,\n",
       " 'é': 44,\n",
       " 'è': 38,\n",
       " 'â': 2,\n",
       " 'ç': 33,\n",
       " 'î': 2,\n",
       " 'ê': 6,\n",
       " 'Ç': 19,\n",
       " '\\t': 4,\n",
       " 'ë': 4,\n",
       " '…': 3,\n",
       " \"'\": 1,\n",
       " 'À': 4,\n",
       " '*': 6}"
      ]
     },
     "execution_count": 6,
     "metadata": {},
     "output_type": "execute_result"
    }
   ],
   "source": [
    "frequencies: dict[str,int] = {}\n",
    "\n",
    "for line in lines:\n",
    "    for character in line:\n",
    "        if character in frequencies:\n",
    "            frequencies[character] += 1\n",
    "        else:\n",
    "            frequencies[character] = 1\n",
    "\n",
    "frequencies"
   ]
  },
  {
   "cell_type": "markdown",
   "metadata": {},
   "source": [
    "### Let's avoid counting non-alphabetical characters"
   ]
  },
  {
   "cell_type": "code",
   "execution_count": 9,
   "metadata": {},
   "outputs": [
    {
     "data": {
      "text/plain": [
       "{'t': 354686,\n",
       " 'h': 256570,\n",
       " 'e': 485745,\n",
       " 's': 268260,\n",
       " 'o': 332836,\n",
       " 'n': 261362,\n",
       " 'f': 86039,\n",
       " 'r': 252569,\n",
       " 'm': 118009,\n",
       " 'a': 311115,\n",
       " 'i': 270991,\n",
       " 'c': 91830,\n",
       " 'u': 137306,\n",
       " 'w': 96161,\n",
       " 'd': 159283,\n",
       " 'b': 64084,\n",
       " 'y': 99428,\n",
       " 'g': 72735,\n",
       " 'v': 40426,\n",
       " 'p': 61490,\n",
       " 'l': 181154,\n",
       " 'k': 37838,\n",
       " 'z': 1795,\n",
       " 'x': 5399,\n",
       " 'q': 4000,\n",
       " 'j': 4935,\n",
       " 'æ': 71,\n",
       " 'œ': 17,\n",
       " 'à': 18,\n",
       " 'é': 53,\n",
       " 'è': 38,\n",
       " 'â': 2,\n",
       " 'ç': 52,\n",
       " 'î': 2,\n",
       " 'ê': 6,\n",
       " 'ë': 4}"
      ]
     },
     "execution_count": 9,
     "metadata": {},
     "output_type": "execute_result"
    }
   ],
   "source": [
    "frequencies = {}\n",
    "\n",
    "for line in lines:\n",
    "    for character in line:\n",
    "        if character.isalpha():\n",
    "            character = character.lower()\n",
    "            if character in frequencies:\n",
    "                frequencies[character] += 1\n",
    "            else:\n",
    "                frequencies[character] = 1\n",
    "\n",
    "frequencies"
   ]
  }
 ],
 "metadata": {
  "kernelspec": {
   "display_name": "Python 3",
   "language": "python",
   "name": "python3"
  },
  "language_info": {
   "codemirror_mode": {
    "name": "ipython",
    "version": 3
   },
   "file_extension": ".py",
   "mimetype": "text/x-python",
   "name": "python",
   "nbconvert_exporter": "python",
   "pygments_lexer": "ipython3",
   "version": "3.12.4"
  }
 },
 "nbformat": 4,
 "nbformat_minor": 2
}
